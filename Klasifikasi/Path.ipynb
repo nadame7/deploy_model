{
 "cells": [
  {
   "cell_type": "code",
   "execution_count": 1,
   "id": "3dbf1967",
   "metadata": {},
   "outputs": [
    {
     "data": {
      "text/plain": [
       "'/Users/andyhermawan/Documents/Purwadhika_Digital_School/JCDS_On_Campus/JCDS_2704/Modul_3/Day_26/Klasifikasi'"
      ]
     },
     "execution_count": 1,
     "metadata": {},
     "output_type": "execute_result"
    }
   ],
   "source": [
    "pwd"
   ]
  },
  {
   "cell_type": "markdown",
   "id": "f5d92689",
   "metadata": {},
   "source": [
    "`path pickle klasifikasi`"
   ]
  },
  {
   "cell_type": "code",
   "execution_count": 4,
   "id": "a1f0d0c7",
   "metadata": {},
   "outputs": [],
   "source": [
    "# /Users/andyhermawan/Documents/Unindra/Konsinyering/Machine_Learning/Klasifikasi/final_model_complete.pkl"
   ]
  },
  {
   "cell_type": "markdown",
   "id": "0219b16d",
   "metadata": {},
   "source": [
    "`link untuk memanggil streamlit dari model`"
   ]
  },
  {
   "cell_type": "code",
   "execution_count": null,
   "id": "3f9a5d33",
   "metadata": {},
   "outputs": [
    {
     "name": "stdout",
     "output_type": "stream",
     "text": [
      "\u001b[0m\n",
      "\u001b[34m\u001b[1m  You can now view your Streamlit app in your browser.\u001b[0m\n",
      "\u001b[0m\n",
      "\u001b[34m  Local URL: \u001b[0m\u001b[1mhttp://localhost:8501\u001b[0m\n",
      "\u001b[34m  Network URL: \u001b[0m\u001b[1mhttp://172.16.1.8:8501\u001b[0m\n",
      "\u001b[0m\n",
      "\u001b[34m\u001b[1m  For better performance, install the Watchdog module:\u001b[0m\n",
      "\n",
      "  $ xcode-select --install\n",
      "  $ pip install watchdog\n",
      "            \u001b[0m\n",
      "2025-02-10 13:54:26.382 Serialization of dataframe to Arrow table was unsuccessful due to: (\"Could not convert 'female' with type str: tried to convert to int64\", 'Conversion failed for column 0 with type object'). Applying automatic fixes for column types to make the dataframe Arrow-compatible.\n",
      "2025-02-10 13:55:10.866 Serialization of dataframe to Arrow table was unsuccessful due to: (\"Could not convert 'female' with type str: tried to convert to int64\", 'Conversion failed for column 0 with type object'). Applying automatic fixes for column types to make the dataframe Arrow-compatible.\n",
      "2025-02-10 13:55:11.436 Serialization of dataframe to Arrow table was unsuccessful due to: (\"Could not convert 'female' with type str: tried to convert to int64\", 'Conversion failed for column 0 with type object'). Applying automatic fixes for column types to make the dataframe Arrow-compatible.\n",
      "2025-02-10 13:55:13.291 Serialization of dataframe to Arrow table was unsuccessful due to: (\"Could not convert 'female' with type str: tried to convert to int64\", 'Conversion failed for column 0 with type object'). Applying automatic fixes for column types to make the dataframe Arrow-compatible.\n",
      "2025-02-10 13:55:15.774 Serialization of dataframe to Arrow table was unsuccessful due to: (\"Could not convert 'female' with type str: tried to convert to int64\", 'Conversion failed for column 0 with type object'). Applying automatic fixes for column types to make the dataframe Arrow-compatible.\n"
     ]
    }
   ],
   "source": [
    "!streamlit run survival_rate_prediction.py"
   ]
  },
  {
   "cell_type": "code",
   "execution_count": null,
   "id": "e72902b0",
   "metadata": {},
   "outputs": [],
   "source": []
  }
 ],
 "metadata": {
  "kernelspec": {
   "display_name": "Python 3 (ipykernel)",
   "language": "python",
   "name": "python3"
  },
  "language_info": {
   "codemirror_mode": {
    "name": "ipython",
    "version": 3
   },
   "file_extension": ".py",
   "mimetype": "text/x-python",
   "name": "python",
   "nbconvert_exporter": "python",
   "pygments_lexer": "ipython3",
   "version": "3.11.5"
  }
 },
 "nbformat": 4,
 "nbformat_minor": 5
}
